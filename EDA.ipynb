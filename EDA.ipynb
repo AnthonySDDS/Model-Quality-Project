{
 "cells": [
  {
   "cell_type": "markdown",
   "metadata": {},
   "source": [
    "# Model Quality Project"
   ]
  },
  {
   "cell_type": "markdown",
   "metadata": {},
   "source": [
    "I will be attempting to improve model quality by check alternative routes"
   ]
  },
  {
   "cell_type": "markdown",
   "metadata": {},
   "source": [
    "## Preparing Data"
   ]
  },
  {
   "cell_type": "code",
   "execution_count": 2,
   "metadata": {},
   "outputs": [],
   "source": [
    "# imports\n",
    "import numpy as np\n",
    "import pandas as pd\n",
    "from sklearn.ensemble import RandomForestClassifier\n",
    "from sklearn.model_selection import train_test_split, RandomizedSearchCV\n",
    "from sklearn.preprocessing import StandardScaler, LabelEncoder\n",
    "from sklearn.metrics import accuracy_score,  roc_auc_score, roc_curve\n",
    "from sklearn.model_selection import GridSearchCV\n",
    "from sklearn.linear_model import LogisticRegression\n",
    "from sklearn.tree import DecisionTreeClassifier\n",
    "from sklearn.metrics import classification_report\n",
    "from imblearn.over_sampling import SMOTE\n",
    "import plotly.express as px"
   ]
  },
  {
   "cell_type": "code",
   "execution_count": null,
   "metadata": {},
   "outputs": [],
   "source": []
  },
  {
   "cell_type": "markdown",
   "metadata": {},
   "source": [
    "All needed imports"
   ]
  },
  {
   "cell_type": "code",
   "execution_count": 3,
   "metadata": {},
   "outputs": [],
   "source": [
    "data = pd.read_csv(r\"C:\\Users\\alexi\\Desktop\\Coding Projects\\Churn-Project\\Churn.csv\")"
   ]
  },
  {
   "cell_type": "markdown",
   "metadata": {},
   "source": [
    "All CSV files"
   ]
  },
  {
   "cell_type": "code",
   "execution_count": 4,
   "metadata": {},
   "outputs": [
    {
     "name": "stdout",
     "output_type": "stream",
     "text": [
      "<class 'pandas.core.frame.DataFrame'>\n",
      "RangeIndex: 10000 entries, 0 to 9999\n",
      "Data columns (total 14 columns):\n",
      " #   Column           Non-Null Count  Dtype  \n",
      "---  ------           --------------  -----  \n",
      " 0   RowNumber        10000 non-null  int64  \n",
      " 1   CustomerId       10000 non-null  int64  \n",
      " 2   Surname          10000 non-null  object \n",
      " 3   CreditScore      10000 non-null  int64  \n",
      " 4   Geography        10000 non-null  object \n",
      " 5   Gender           10000 non-null  object \n",
      " 6   Age              10000 non-null  int64  \n",
      " 7   Tenure           9091 non-null   float64\n",
      " 8   Balance          10000 non-null  float64\n",
      " 9   NumOfProducts    10000 non-null  int64  \n",
      " 10  HasCrCard        10000 non-null  int64  \n",
      " 11  IsActiveMember   10000 non-null  int64  \n",
      " 12  EstimatedSalary  10000 non-null  float64\n",
      " 13  Exited           10000 non-null  int64  \n",
      "dtypes: float64(3), int64(8), object(3)\n",
      "memory usage: 1.1+ MB\n"
     ]
    },
    {
     "data": {
      "text/html": [
       "<div>\n",
       "<style scoped>\n",
       "    .dataframe tbody tr th:only-of-type {\n",
       "        vertical-align: middle;\n",
       "    }\n",
       "\n",
       "    .dataframe tbody tr th {\n",
       "        vertical-align: top;\n",
       "    }\n",
       "\n",
       "    .dataframe thead th {\n",
       "        text-align: right;\n",
       "    }\n",
       "</style>\n",
       "<table border=\"1\" class=\"dataframe\">\n",
       "  <thead>\n",
       "    <tr style=\"text-align: right;\">\n",
       "      <th></th>\n",
       "      <th>RowNumber</th>\n",
       "      <th>CustomerId</th>\n",
       "      <th>Surname</th>\n",
       "      <th>CreditScore</th>\n",
       "      <th>Geography</th>\n",
       "      <th>Gender</th>\n",
       "      <th>Age</th>\n",
       "      <th>Tenure</th>\n",
       "      <th>Balance</th>\n",
       "      <th>NumOfProducts</th>\n",
       "      <th>HasCrCard</th>\n",
       "      <th>IsActiveMember</th>\n",
       "      <th>EstimatedSalary</th>\n",
       "      <th>Exited</th>\n",
       "    </tr>\n",
       "  </thead>\n",
       "  <tbody>\n",
       "    <tr>\n",
       "      <th>0</th>\n",
       "      <td>1</td>\n",
       "      <td>15634602</td>\n",
       "      <td>Hargrave</td>\n",
       "      <td>619</td>\n",
       "      <td>France</td>\n",
       "      <td>Female</td>\n",
       "      <td>42</td>\n",
       "      <td>2.0</td>\n",
       "      <td>0.00</td>\n",
       "      <td>1</td>\n",
       "      <td>1</td>\n",
       "      <td>1</td>\n",
       "      <td>101348.88</td>\n",
       "      <td>1</td>\n",
       "    </tr>\n",
       "    <tr>\n",
       "      <th>1</th>\n",
       "      <td>2</td>\n",
       "      <td>15647311</td>\n",
       "      <td>Hill</td>\n",
       "      <td>608</td>\n",
       "      <td>Spain</td>\n",
       "      <td>Female</td>\n",
       "      <td>41</td>\n",
       "      <td>1.0</td>\n",
       "      <td>83807.86</td>\n",
       "      <td>1</td>\n",
       "      <td>0</td>\n",
       "      <td>1</td>\n",
       "      <td>112542.58</td>\n",
       "      <td>0</td>\n",
       "    </tr>\n",
       "    <tr>\n",
       "      <th>2</th>\n",
       "      <td>3</td>\n",
       "      <td>15619304</td>\n",
       "      <td>Onio</td>\n",
       "      <td>502</td>\n",
       "      <td>France</td>\n",
       "      <td>Female</td>\n",
       "      <td>42</td>\n",
       "      <td>8.0</td>\n",
       "      <td>159660.80</td>\n",
       "      <td>3</td>\n",
       "      <td>1</td>\n",
       "      <td>0</td>\n",
       "      <td>113931.57</td>\n",
       "      <td>1</td>\n",
       "    </tr>\n",
       "    <tr>\n",
       "      <th>3</th>\n",
       "      <td>4</td>\n",
       "      <td>15701354</td>\n",
       "      <td>Boni</td>\n",
       "      <td>699</td>\n",
       "      <td>France</td>\n",
       "      <td>Female</td>\n",
       "      <td>39</td>\n",
       "      <td>1.0</td>\n",
       "      <td>0.00</td>\n",
       "      <td>2</td>\n",
       "      <td>0</td>\n",
       "      <td>0</td>\n",
       "      <td>93826.63</td>\n",
       "      <td>0</td>\n",
       "    </tr>\n",
       "    <tr>\n",
       "      <th>4</th>\n",
       "      <td>5</td>\n",
       "      <td>15737888</td>\n",
       "      <td>Mitchell</td>\n",
       "      <td>850</td>\n",
       "      <td>Spain</td>\n",
       "      <td>Female</td>\n",
       "      <td>43</td>\n",
       "      <td>2.0</td>\n",
       "      <td>125510.82</td>\n",
       "      <td>1</td>\n",
       "      <td>1</td>\n",
       "      <td>1</td>\n",
       "      <td>79084.10</td>\n",
       "      <td>0</td>\n",
       "    </tr>\n",
       "  </tbody>\n",
       "</table>\n",
       "</div>"
      ],
      "text/plain": [
       "   RowNumber  CustomerId   Surname  CreditScore Geography  Gender  Age  \\\n",
       "0          1    15634602  Hargrave          619    France  Female   42   \n",
       "1          2    15647311      Hill          608     Spain  Female   41   \n",
       "2          3    15619304      Onio          502    France  Female   42   \n",
       "3          4    15701354      Boni          699    France  Female   39   \n",
       "4          5    15737888  Mitchell          850     Spain  Female   43   \n",
       "\n",
       "   Tenure    Balance  NumOfProducts  HasCrCard  IsActiveMember  \\\n",
       "0     2.0       0.00              1          1               1   \n",
       "1     1.0   83807.86              1          0               1   \n",
       "2     8.0  159660.80              3          1               0   \n",
       "3     1.0       0.00              2          0               0   \n",
       "4     2.0  125510.82              1          1               1   \n",
       "\n",
       "   EstimatedSalary  Exited  \n",
       "0        101348.88       1  \n",
       "1        112542.58       0  \n",
       "2        113931.57       1  \n",
       "3         93826.63       0  \n",
       "4         79084.10       0  "
      ]
     },
     "execution_count": 4,
     "metadata": {},
     "output_type": "execute_result"
    }
   ],
   "source": [
    "data.info()\n",
    "data.head()"
   ]
  },
  {
   "cell_type": "markdown",
   "metadata": {},
   "source": [
    "i checked for anomalies and we seem to have a column (Tenure) with missing values but our data types seem fine so ill check the missing values"
   ]
  },
  {
   "cell_type": "code",
   "execution_count": 5,
   "metadata": {},
   "outputs": [
    {
     "data": {
      "text/html": [
       "<div>\n",
       "<style scoped>\n",
       "    .dataframe tbody tr th:only-of-type {\n",
       "        vertical-align: middle;\n",
       "    }\n",
       "\n",
       "    .dataframe tbody tr th {\n",
       "        vertical-align: top;\n",
       "    }\n",
       "\n",
       "    .dataframe thead th {\n",
       "        text-align: right;\n",
       "    }\n",
       "</style>\n",
       "<table border=\"1\" class=\"dataframe\">\n",
       "  <thead>\n",
       "    <tr style=\"text-align: right;\">\n",
       "      <th></th>\n",
       "      <th>RowNumber</th>\n",
       "      <th>CustomerId</th>\n",
       "      <th>Surname</th>\n",
       "      <th>CreditScore</th>\n",
       "      <th>Geography</th>\n",
       "      <th>Gender</th>\n",
       "      <th>Age</th>\n",
       "      <th>Tenure</th>\n",
       "      <th>Balance</th>\n",
       "      <th>NumOfProducts</th>\n",
       "      <th>HasCrCard</th>\n",
       "      <th>IsActiveMember</th>\n",
       "      <th>EstimatedSalary</th>\n",
       "      <th>Exited</th>\n",
       "    </tr>\n",
       "  </thead>\n",
       "  <tbody>\n",
       "    <tr>\n",
       "      <th>2988</th>\n",
       "      <td>2989</td>\n",
       "      <td>15684801</td>\n",
       "      <td>Abbott</td>\n",
       "      <td>689</td>\n",
       "      <td>France</td>\n",
       "      <td>Male</td>\n",
       "      <td>47</td>\n",
       "      <td>NaN</td>\n",
       "      <td>93871.95</td>\n",
       "      <td>3</td>\n",
       "      <td>1</td>\n",
       "      <td>0</td>\n",
       "      <td>156878.42</td>\n",
       "      <td>1</td>\n",
       "    </tr>\n",
       "    <tr>\n",
       "      <th>5536</th>\n",
       "      <td>5537</td>\n",
       "      <td>15795878</td>\n",
       "      <td>Anayochukwu</td>\n",
       "      <td>636</td>\n",
       "      <td>Spain</td>\n",
       "      <td>Male</td>\n",
       "      <td>45</td>\n",
       "      <td>NaN</td>\n",
       "      <td>0.00</td>\n",
       "      <td>2</td>\n",
       "      <td>1</td>\n",
       "      <td>1</td>\n",
       "      <td>159463.80</td>\n",
       "      <td>0</td>\n",
       "    </tr>\n",
       "    <tr>\n",
       "      <th>3250</th>\n",
       "      <td>3251</td>\n",
       "      <td>15587419</td>\n",
       "      <td>Shipton</td>\n",
       "      <td>611</td>\n",
       "      <td>France</td>\n",
       "      <td>Male</td>\n",
       "      <td>58</td>\n",
       "      <td>NaN</td>\n",
       "      <td>0.00</td>\n",
       "      <td>2</td>\n",
       "      <td>0</td>\n",
       "      <td>1</td>\n",
       "      <td>107665.68</td>\n",
       "      <td>1</td>\n",
       "    </tr>\n",
       "    <tr>\n",
       "      <th>1965</th>\n",
       "      <td>1966</td>\n",
       "      <td>15772243</td>\n",
       "      <td>MacDonald</td>\n",
       "      <td>612</td>\n",
       "      <td>France</td>\n",
       "      <td>Female</td>\n",
       "      <td>33</td>\n",
       "      <td>NaN</td>\n",
       "      <td>0.00</td>\n",
       "      <td>1</td>\n",
       "      <td>0</td>\n",
       "      <td>0</td>\n",
       "      <td>142797.50</td>\n",
       "      <td>1</td>\n",
       "    </tr>\n",
       "    <tr>\n",
       "      <th>5172</th>\n",
       "      <td>5173</td>\n",
       "      <td>15813095</td>\n",
       "      <td>Nwebube</td>\n",
       "      <td>553</td>\n",
       "      <td>France</td>\n",
       "      <td>Male</td>\n",
       "      <td>37</td>\n",
       "      <td>NaN</td>\n",
       "      <td>0.00</td>\n",
       "      <td>2</td>\n",
       "      <td>1</td>\n",
       "      <td>0</td>\n",
       "      <td>33877.29</td>\n",
       "      <td>0</td>\n",
       "    </tr>\n",
       "    <tr>\n",
       "      <th>8617</th>\n",
       "      <td>8618</td>\n",
       "      <td>15672481</td>\n",
       "      <td>Ulyanov</td>\n",
       "      <td>641</td>\n",
       "      <td>France</td>\n",
       "      <td>Male</td>\n",
       "      <td>37</td>\n",
       "      <td>NaN</td>\n",
       "      <td>0.00</td>\n",
       "      <td>2</td>\n",
       "      <td>1</td>\n",
       "      <td>0</td>\n",
       "      <td>45309.24</td>\n",
       "      <td>0</td>\n",
       "    </tr>\n",
       "    <tr>\n",
       "      <th>5443</th>\n",
       "      <td>5444</td>\n",
       "      <td>15590199</td>\n",
       "      <td>Temple</td>\n",
       "      <td>701</td>\n",
       "      <td>Spain</td>\n",
       "      <td>Male</td>\n",
       "      <td>28</td>\n",
       "      <td>NaN</td>\n",
       "      <td>103421.32</td>\n",
       "      <td>1</td>\n",
       "      <td>0</td>\n",
       "      <td>1</td>\n",
       "      <td>76304.73</td>\n",
       "      <td>0</td>\n",
       "    </tr>\n",
       "    <tr>\n",
       "      <th>2900</th>\n",
       "      <td>2901</td>\n",
       "      <td>15668575</td>\n",
       "      <td>Hao</td>\n",
       "      <td>626</td>\n",
       "      <td>Spain</td>\n",
       "      <td>Female</td>\n",
       "      <td>26</td>\n",
       "      <td>NaN</td>\n",
       "      <td>148610.41</td>\n",
       "      <td>3</td>\n",
       "      <td>0</td>\n",
       "      <td>1</td>\n",
       "      <td>104502.02</td>\n",
       "      <td>1</td>\n",
       "    </tr>\n",
       "    <tr>\n",
       "      <th>2120</th>\n",
       "      <td>2121</td>\n",
       "      <td>15651554</td>\n",
       "      <td>Anenechukwu</td>\n",
       "      <td>618</td>\n",
       "      <td>Germany</td>\n",
       "      <td>Female</td>\n",
       "      <td>54</td>\n",
       "      <td>NaN</td>\n",
       "      <td>118449.21</td>\n",
       "      <td>1</td>\n",
       "      <td>1</td>\n",
       "      <td>1</td>\n",
       "      <td>133573.29</td>\n",
       "      <td>1</td>\n",
       "    </tr>\n",
       "    <tr>\n",
       "      <th>9901</th>\n",
       "      <td>9902</td>\n",
       "      <td>15802909</td>\n",
       "      <td>Hu</td>\n",
       "      <td>706</td>\n",
       "      <td>Germany</td>\n",
       "      <td>Female</td>\n",
       "      <td>56</td>\n",
       "      <td>NaN</td>\n",
       "      <td>139603.22</td>\n",
       "      <td>1</td>\n",
       "      <td>1</td>\n",
       "      <td>1</td>\n",
       "      <td>86383.61</td>\n",
       "      <td>0</td>\n",
       "    </tr>\n",
       "    <tr>\n",
       "      <th>2258</th>\n",
       "      <td>2259</td>\n",
       "      <td>15776631</td>\n",
       "      <td>Ma</td>\n",
       "      <td>466</td>\n",
       "      <td>France</td>\n",
       "      <td>Female</td>\n",
       "      <td>36</td>\n",
       "      <td>NaN</td>\n",
       "      <td>119540.15</td>\n",
       "      <td>1</td>\n",
       "      <td>0</td>\n",
       "      <td>1</td>\n",
       "      <td>80603.99</td>\n",
       "      <td>0</td>\n",
       "    </tr>\n",
       "    <tr>\n",
       "      <th>5689</th>\n",
       "      <td>5690</td>\n",
       "      <td>15612931</td>\n",
       "      <td>Korovin</td>\n",
       "      <td>722</td>\n",
       "      <td>Spain</td>\n",
       "      <td>Female</td>\n",
       "      <td>50</td>\n",
       "      <td>NaN</td>\n",
       "      <td>132088.59</td>\n",
       "      <td>1</td>\n",
       "      <td>1</td>\n",
       "      <td>1</td>\n",
       "      <td>128262.14</td>\n",
       "      <td>0</td>\n",
       "    </tr>\n",
       "    <tr>\n",
       "      <th>7520</th>\n",
       "      <td>7521</td>\n",
       "      <td>15665087</td>\n",
       "      <td>Bergamaschi</td>\n",
       "      <td>595</td>\n",
       "      <td>Germany</td>\n",
       "      <td>Female</td>\n",
       "      <td>26</td>\n",
       "      <td>NaN</td>\n",
       "      <td>118547.72</td>\n",
       "      <td>1</td>\n",
       "      <td>1</td>\n",
       "      <td>1</td>\n",
       "      <td>151192.18</td>\n",
       "      <td>0</td>\n",
       "    </tr>\n",
       "    <tr>\n",
       "      <th>7305</th>\n",
       "      <td>7306</td>\n",
       "      <td>15794204</td>\n",
       "      <td>Manna</td>\n",
       "      <td>687</td>\n",
       "      <td>France</td>\n",
       "      <td>Male</td>\n",
       "      <td>28</td>\n",
       "      <td>NaN</td>\n",
       "      <td>108116.66</td>\n",
       "      <td>1</td>\n",
       "      <td>1</td>\n",
       "      <td>1</td>\n",
       "      <td>27411.19</td>\n",
       "      <td>0</td>\n",
       "    </tr>\n",
       "    <tr>\n",
       "      <th>571</th>\n",
       "      <td>572</td>\n",
       "      <td>15730076</td>\n",
       "      <td>Osborne</td>\n",
       "      <td>651</td>\n",
       "      <td>France</td>\n",
       "      <td>Male</td>\n",
       "      <td>45</td>\n",
       "      <td>NaN</td>\n",
       "      <td>0.00</td>\n",
       "      <td>1</td>\n",
       "      <td>1</td>\n",
       "      <td>0</td>\n",
       "      <td>67740.08</td>\n",
       "      <td>1</td>\n",
       "    </tr>\n",
       "    <tr>\n",
       "      <th>5007</th>\n",
       "      <td>5008</td>\n",
       "      <td>15784761</td>\n",
       "      <td>Ballard</td>\n",
       "      <td>554</td>\n",
       "      <td>Spain</td>\n",
       "      <td>Female</td>\n",
       "      <td>46</td>\n",
       "      <td>NaN</td>\n",
       "      <td>87603.35</td>\n",
       "      <td>3</td>\n",
       "      <td>0</td>\n",
       "      <td>1</td>\n",
       "      <td>96929.24</td>\n",
       "      <td>1</td>\n",
       "    </tr>\n",
       "    <tr>\n",
       "      <th>1389</th>\n",
       "      <td>1390</td>\n",
       "      <td>15684196</td>\n",
       "      <td>Aitken</td>\n",
       "      <td>627</td>\n",
       "      <td>France</td>\n",
       "      <td>Female</td>\n",
       "      <td>55</td>\n",
       "      <td>NaN</td>\n",
       "      <td>159441.27</td>\n",
       "      <td>1</td>\n",
       "      <td>1</td>\n",
       "      <td>0</td>\n",
       "      <td>100686.11</td>\n",
       "      <td>1</td>\n",
       "    </tr>\n",
       "    <tr>\n",
       "      <th>2198</th>\n",
       "      <td>2199</td>\n",
       "      <td>15573876</td>\n",
       "      <td>Chia</td>\n",
       "      <td>473</td>\n",
       "      <td>Spain</td>\n",
       "      <td>Male</td>\n",
       "      <td>48</td>\n",
       "      <td>NaN</td>\n",
       "      <td>0.00</td>\n",
       "      <td>2</td>\n",
       "      <td>1</td>\n",
       "      <td>0</td>\n",
       "      <td>71139.80</td>\n",
       "      <td>0</td>\n",
       "    </tr>\n",
       "    <tr>\n",
       "      <th>4429</th>\n",
       "      <td>4430</td>\n",
       "      <td>15686463</td>\n",
       "      <td>Fu</td>\n",
       "      <td>626</td>\n",
       "      <td>France</td>\n",
       "      <td>Male</td>\n",
       "      <td>38</td>\n",
       "      <td>NaN</td>\n",
       "      <td>141074.59</td>\n",
       "      <td>1</td>\n",
       "      <td>1</td>\n",
       "      <td>0</td>\n",
       "      <td>52795.56</td>\n",
       "      <td>1</td>\n",
       "    </tr>\n",
       "    <tr>\n",
       "      <th>8629</th>\n",
       "      <td>8630</td>\n",
       "      <td>15577598</td>\n",
       "      <td>Chiang</td>\n",
       "      <td>651</td>\n",
       "      <td>Spain</td>\n",
       "      <td>Male</td>\n",
       "      <td>23</td>\n",
       "      <td>NaN</td>\n",
       "      <td>115636.05</td>\n",
       "      <td>2</td>\n",
       "      <td>1</td>\n",
       "      <td>0</td>\n",
       "      <td>70400.86</td>\n",
       "      <td>0</td>\n",
       "    </tr>\n",
       "  </tbody>\n",
       "</table>\n",
       "</div>"
      ],
      "text/plain": [
       "      RowNumber  CustomerId      Surname  CreditScore Geography  Gender  Age  \\\n",
       "2988       2989    15684801       Abbott          689    France    Male   47   \n",
       "5536       5537    15795878  Anayochukwu          636     Spain    Male   45   \n",
       "3250       3251    15587419      Shipton          611    France    Male   58   \n",
       "1965       1966    15772243    MacDonald          612    France  Female   33   \n",
       "5172       5173    15813095      Nwebube          553    France    Male   37   \n",
       "8617       8618    15672481      Ulyanov          641    France    Male   37   \n",
       "5443       5444    15590199       Temple          701     Spain    Male   28   \n",
       "2900       2901    15668575          Hao          626     Spain  Female   26   \n",
       "2120       2121    15651554  Anenechukwu          618   Germany  Female   54   \n",
       "9901       9902    15802909           Hu          706   Germany  Female   56   \n",
       "2258       2259    15776631           Ma          466    France  Female   36   \n",
       "5689       5690    15612931      Korovin          722     Spain  Female   50   \n",
       "7520       7521    15665087  Bergamaschi          595   Germany  Female   26   \n",
       "7305       7306    15794204        Manna          687    France    Male   28   \n",
       "571         572    15730076      Osborne          651    France    Male   45   \n",
       "5007       5008    15784761      Ballard          554     Spain  Female   46   \n",
       "1389       1390    15684196       Aitken          627    France  Female   55   \n",
       "2198       2199    15573876         Chia          473     Spain    Male   48   \n",
       "4429       4430    15686463           Fu          626    France    Male   38   \n",
       "8629       8630    15577598       Chiang          651     Spain    Male   23   \n",
       "\n",
       "      Tenure    Balance  NumOfProducts  HasCrCard  IsActiveMember  \\\n",
       "2988     NaN   93871.95              3          1               0   \n",
       "5536     NaN       0.00              2          1               1   \n",
       "3250     NaN       0.00              2          0               1   \n",
       "1965     NaN       0.00              1          0               0   \n",
       "5172     NaN       0.00              2          1               0   \n",
       "8617     NaN       0.00              2          1               0   \n",
       "5443     NaN  103421.32              1          0               1   \n",
       "2900     NaN  148610.41              3          0               1   \n",
       "2120     NaN  118449.21              1          1               1   \n",
       "9901     NaN  139603.22              1          1               1   \n",
       "2258     NaN  119540.15              1          0               1   \n",
       "5689     NaN  132088.59              1          1               1   \n",
       "7520     NaN  118547.72              1          1               1   \n",
       "7305     NaN  108116.66              1          1               1   \n",
       "571      NaN       0.00              1          1               0   \n",
       "5007     NaN   87603.35              3          0               1   \n",
       "1389     NaN  159441.27              1          1               0   \n",
       "2198     NaN       0.00              2          1               0   \n",
       "4429     NaN  141074.59              1          1               0   \n",
       "8629     NaN  115636.05              2          1               0   \n",
       "\n",
       "      EstimatedSalary  Exited  \n",
       "2988        156878.42       1  \n",
       "5536        159463.80       0  \n",
       "3250        107665.68       1  \n",
       "1965        142797.50       1  \n",
       "5172         33877.29       0  \n",
       "8617         45309.24       0  \n",
       "5443         76304.73       0  \n",
       "2900        104502.02       1  \n",
       "2120        133573.29       1  \n",
       "9901         86383.61       0  \n",
       "2258         80603.99       0  \n",
       "5689        128262.14       0  \n",
       "7520        151192.18       0  \n",
       "7305         27411.19       0  \n",
       "571          67740.08       1  \n",
       "5007         96929.24       1  \n",
       "1389        100686.11       1  \n",
       "2198         71139.80       0  \n",
       "4429         52795.56       1  \n",
       "8629         70400.86       0  "
      ]
     },
     "execution_count": 5,
     "metadata": {},
     "output_type": "execute_result"
    }
   ],
   "source": [
    "missing_values = data[data.isnull().any(axis=1)]\n",
    "missing_values.sample(20)"
   ]
  },
  {
   "cell_type": "markdown",
   "metadata": {},
   "source": [
    "created a missing value dataframe to access the missing values better"
   ]
  },
  {
   "cell_type": "code",
   "execution_count": 6,
   "metadata": {},
   "outputs": [
    {
     "data": {
      "text/plain": [
       "Exited\n",
       "0    7963\n",
       "1    2037\n",
       "Name: count, dtype: int64"
      ]
     },
     "execution_count": 6,
     "metadata": {},
     "output_type": "execute_result"
    }
   ],
   "source": [
    "data['Exited'].value_counts()"
   ]
  },
  {
   "cell_type": "code",
   "execution_count": 7,
   "metadata": {},
   "outputs": [
    {
     "data": {
      "text/plain": [
       "30      1\n",
       "48      0\n",
       "51      0\n",
       "53      1\n",
       "60      0\n",
       "       ..\n",
       "9944    0\n",
       "9956    1\n",
       "9964    0\n",
       "9985    0\n",
       "9999    0\n",
       "Name: Exited, Length: 909, dtype: int64"
      ]
     },
     "execution_count": 7,
     "metadata": {},
     "output_type": "execute_result"
    }
   ],
   "source": [
    "missing_values['Exited']"
   ]
  },
  {
   "cell_type": "markdown",
   "metadata": {},
   "source": [
    "the 2 cells above were to test if there is a correlation with the exited customers and the missing values and i dont believe there is"
   ]
  },
  {
   "cell_type": "code",
   "execution_count": 8,
   "metadata": {},
   "outputs": [
    {
     "data": {
      "text/plain": [
       "IsActiveMember\n",
       "1    464\n",
       "0    445\n",
       "Name: count, dtype: int64"
      ]
     },
     "execution_count": 8,
     "metadata": {},
     "output_type": "execute_result"
    }
   ],
   "source": [
    "missing_values['IsActiveMember'].value_counts()"
   ]
  },
  {
   "cell_type": "markdown",
   "metadata": {},
   "source": [
    "I also tested if it had anyhting to do with their activeness and after running this i dont believe there is another patter or correlation to be made it is also too much data to lose so i will fill the value with 0 as i think it could indicate newer accounts or simply ones that havent been active for more than a year and as the test is to see customer turnover it could be useful information later"
   ]
  },
  {
   "cell_type": "code",
   "execution_count": 9,
   "metadata": {},
   "outputs": [],
   "source": [
    "data['Tenure']  = data['Tenure'].fillna(0)"
   ]
  },
  {
   "cell_type": "code",
   "execution_count": 10,
   "metadata": {},
   "outputs": [
    {
     "name": "stdout",
     "output_type": "stream",
     "text": [
      "<class 'pandas.core.frame.DataFrame'>\n",
      "RangeIndex: 10000 entries, 0 to 9999\n",
      "Data columns (total 14 columns):\n",
      " #   Column           Non-Null Count  Dtype  \n",
      "---  ------           --------------  -----  \n",
      " 0   RowNumber        10000 non-null  int64  \n",
      " 1   CustomerId       10000 non-null  int64  \n",
      " 2   Surname          10000 non-null  object \n",
      " 3   CreditScore      10000 non-null  int64  \n",
      " 4   Geography        10000 non-null  object \n",
      " 5   Gender           10000 non-null  object \n",
      " 6   Age              10000 non-null  int64  \n",
      " 7   Tenure           10000 non-null  float64\n",
      " 8   Balance          10000 non-null  float64\n",
      " 9   NumOfProducts    10000 non-null  int64  \n",
      " 10  HasCrCard        10000 non-null  int64  \n",
      " 11  IsActiveMember   10000 non-null  int64  \n",
      " 12  EstimatedSalary  10000 non-null  float64\n",
      " 13  Exited           10000 non-null  int64  \n",
      "dtypes: float64(3), int64(8), object(3)\n",
      "memory usage: 1.1+ MB\n"
     ]
    }
   ],
   "source": [
    "data.info()"
   ]
  },
  {
   "cell_type": "markdown",
   "metadata": {},
   "source": [
    "The Values have been filled and i can work with the data now"
   ]
  },
  {
   "cell_type": "markdown",
   "metadata": {},
   "source": [
    "## Checking and Calculating With Imbalance"
   ]
  },
  {
   "cell_type": "code",
   "execution_count": 11,
   "metadata": {},
   "outputs": [
    {
     "data": {
      "text/plain": [
       "Exited\n",
       "0    79.63\n",
       "1    20.37\n",
       "Name: proportion, dtype: float64"
      ]
     },
     "execution_count": 11,
     "metadata": {},
     "output_type": "execute_result"
    }
   ],
   "source": [
    "class_distribution = data['Exited'].value_counts(normalize=True) * 100\n",
    "class_distribution"
   ]
  },
  {
   "cell_type": "markdown",
   "metadata": {},
   "source": [
    "The classes are highly imbalanced as the target is not closer to even with the in this case feature so it might favor the majority in our training"
   ]
  },
  {
   "cell_type": "code",
   "execution_count": 12,
   "metadata": {},
   "outputs": [
    {
     "data": {
      "text/plain": [
       "{'0': {'precision': 0.8715179079022172,\n",
       "  'recall': 0.9623352165725048,\n",
       "  'f1-score': 0.9146778042959427,\n",
       "  'support': 1593.0},\n",
       " '1': {'precision': 0.7510373443983402,\n",
       "  'recall': 0.44471744471744473,\n",
       "  'f1-score': 0.558641975308642,\n",
       "  'support': 407.0},\n",
       " 'accuracy': 0.857,\n",
       " 'macro avg': {'precision': 0.8112776261502788,\n",
       "  'recall': 0.7035263306449747,\n",
       "  'f1-score': 0.7366598898022924,\n",
       "  'support': 2000.0},\n",
       " 'weighted avg': {'precision': 0.8470001132291781,\n",
       "  'recall': 0.857,\n",
       "  'f1-score': 0.8422245130970271,\n",
       "  'support': 2000.0}}"
      ]
     },
     "execution_count": 12,
     "metadata": {},
     "output_type": "execute_result"
    }
   ],
   "source": [
    "# Encoding Categorical Data\n",
    "encode_geo = LabelEncoder()\n",
    "encode_gender = LabelEncoder()\n",
    "\n",
    "data['Geography'] = encode_geo.fit_transform(data['Geography'])\n",
    "data['Gender'] = encode_gender.fit_transform(data['Gender'])\n",
    "\n",
    "# Feature and Target\n",
    "features = data.drop(columns=['Exited', 'Surname'])\n",
    "target = data['Exited']\n",
    "\n",
    "# Splitting Data into Training and Test\n",
    "x = features\n",
    "y = target\n",
    "x_train, x_test, y_train, y_test = train_test_split(features, target, test_size=0.2, random_state=50, stratify=y)\n",
    "\n",
    "# Standardize the Features\n",
    "scaler = StandardScaler()\n",
    "x_train_scaled = scaler.fit_transform(x_train)\n",
    "x_test_scaled = scaler.transform(x_test)\n",
    "\n",
    "# RandomForest Model Imbalanced Training\n",
    "model = RandomForestClassifier(random_state=50)\n",
    "model.fit(x_train_scaled, y_train)\n",
    "\n",
    "# Predictions\n",
    "y_pred = model.predict(x_test_scaled)\n",
    "\n",
    "# Evaluating the Model\n",
    "report = classification_report(y_test, y_pred, output_dict=True)\n",
    "report"
   ]
  },
  {
   "cell_type": "markdown",
   "metadata": {},
   "source": [
    "I decided to run a classification report for a more detailed list of what we are looking at and its returned some useful information when the model predicts 0 (non-Exited) it is fairly accurate the model successfully identified ~96% of the class and when it does predict 0 it is 87% accurate and a 91% f1 or overall performance for that class however when tasked with identifying 1(exiters) it performs poorly identifying only ~44% of the class with a 75% precision so when it does predict is is fairly accurate the f1_score being a ~55% showing a need for improvement in this class most likely due to the imbalance"
   ]
  },
  {
   "cell_type": "markdown",
   "metadata": {},
   "source": [
    "## Balancing, Choosing Best Model, and Hypertuning"
   ]
  },
  {
   "cell_type": "markdown",
   "metadata": {},
   "source": [
    "### Balancing and Model Choice"
   ]
  },
  {
   "cell_type": "code",
   "execution_count": 13,
   "metadata": {},
   "outputs": [
    {
     "name": "stdout",
     "output_type": "stream",
     "text": [
      "Random Forest Results:\n",
      "               precision    recall  f1-score    support\n",
      "0              0.913502  0.815443  0.861692  1593.0000\n",
      "1              0.491349  0.697789  0.576650   407.0000\n",
      "accuracy       0.791500  0.791500  0.791500     0.7915\n",
      "macro avg      0.702426  0.756616  0.719171  2000.0000\n",
      "weighted avg   0.827594  0.791500  0.803686  2000.0000\n",
      "\n",
      "Logistic Regression Results:\n",
      "               precision    recall  f1-score   support\n",
      "0              0.889103  0.578782  0.701141  1593.000\n",
      "1              0.303219  0.717445  0.426277   407.000\n",
      "accuracy       0.607000  0.607000  0.607000     0.607\n",
      "macro avg      0.596161  0.648113  0.563709  2000.000\n",
      "weighted avg   0.769876  0.607000  0.645206  2000.000\n",
      "\n",
      "Decision Tree Results:\n",
      "               precision    recall  f1-score    support\n",
      "0              0.895631  0.694915  0.782609  1593.0000\n",
      "1              0.363874  0.683047  0.474808   407.0000\n",
      "accuracy       0.692500  0.692500  0.692500     0.6925\n",
      "macro avg      0.629753  0.688981  0.628708  2000.0000\n",
      "weighted avg   0.787419  0.692500  0.719971  2000.0000\n"
     ]
    }
   ],
   "source": [
    "# Applying SMOTE for Oversample\n",
    "smote = SMOTE(random_state=50)\n",
    "x_train_rescale, y_train_smote = smote.fit_resample(x_train, y_train)\n",
    "\n",
    "# Scaling for Resample\n",
    "x_resample_scaled = scaler.fit_transform(x_train_rescale)\n",
    "\n",
    "# Balancing Models \n",
    "rf_model = RandomForestClassifier(class_weight=\"balanced\", random_state=50)\n",
    "log_reg_model = LogisticRegression(class_weight=\"balanced\",max_iter=1000, random_state=50)\n",
    "dt_model = DecisionTreeClassifier(class_weight=\"balanced\", random_state=50)\n",
    "\n",
    "# Train Models\n",
    "rf_model.fit(x_resample_scaled, y_train_smote)\n",
    "log_reg_model.fit(x_resample_scaled, y_train_smote)\n",
    "dt_model.fit(x_resample_scaled, y_train_smote)\n",
    "\n",
    "# Make Predictions\n",
    "rf_pred = rf_model.predict(x_test_scaled)\n",
    "log_reg_pred = log_reg_model.predict(x_test_scaled)\n",
    "dt_pred = dt_model.predict(x_test_scaled)\n",
    "\n",
    "# Evaluate Models\n",
    "rf_report = classification_report(y_test, rf_pred, output_dict=True)\n",
    "log_reg_report = classification_report(y_test, log_reg_pred, output_dict=True)\n",
    "dt_report = classification_report(y_test, dt_pred, output_dict=True)\n",
    "\n",
    "# Convert to DF For Easy Comparison\n",
    "rf_df = pd.DataFrame(rf_report).transpose()\n",
    "log_reg_df = pd.DataFrame(log_reg_report).transpose()\n",
    "dt_df = pd.DataFrame(dt_report).transpose()\n",
    "\n",
    "print(\"Random Forest Results:\\n\", rf_df)\n",
    "print(\"\\nLogistic Regression Results:\\n\", log_reg_df)\n",
    "print(\"\\nDecision Tree Results:\\n\", dt_df)"
   ]
  },
  {
   "cell_type": "markdown",
   "metadata": {},
   "source": [
    "I applyed SMOTE for oversampling as it made more sense than just duplicating some of the other rows as it creates 'synthetic' rows. Scaled the Resample. Balanced all 3 Models with. Trained all 3 Models. Ran a classification report and converted it to a dataframe for ease of access. The results were very telling of all 3 models for what we are looking for which is a consistent way to predict churn rate although logistic has the highest recall it just wasnt accurate enough leaving random forest as out best option with a recall of 69% slightly lower than the 71% from logistic but also a ~49% precision which is almost 20% higher it also proves to be the balanaced approach and we will improve upon it with hyperparamters"
   ]
  },
  {
   "cell_type": "markdown",
   "metadata": {},
   "source": [
    "### HyperTuning"
   ]
  },
  {
   "cell_type": "code",
   "execution_count": 14,
   "metadata": {},
   "outputs": [
    {
     "name": "stdout",
     "output_type": "stream",
     "text": [
      "Best RandomForest Results:\n"
     ]
    },
    {
     "data": {
      "text/html": [
       "<div>\n",
       "<style scoped>\n",
       "    .dataframe tbody tr th:only-of-type {\n",
       "        vertical-align: middle;\n",
       "    }\n",
       "\n",
       "    .dataframe tbody tr th {\n",
       "        vertical-align: top;\n",
       "    }\n",
       "\n",
       "    .dataframe thead th {\n",
       "        text-align: right;\n",
       "    }\n",
       "</style>\n",
       "<table border=\"1\" class=\"dataframe\">\n",
       "  <thead>\n",
       "    <tr style=\"text-align: right;\">\n",
       "      <th></th>\n",
       "      <th>precision</th>\n",
       "      <th>recall</th>\n",
       "      <th>f1-score</th>\n",
       "      <th>support</th>\n",
       "    </tr>\n",
       "  </thead>\n",
       "  <tbody>\n",
       "    <tr>\n",
       "      <th>0</th>\n",
       "      <td>0.909972</td>\n",
       "      <td>0.824859</td>\n",
       "      <td>0.865328</td>\n",
       "      <td>1593.0000</td>\n",
       "    </tr>\n",
       "    <tr>\n",
       "      <th>1</th>\n",
       "      <td>0.498201</td>\n",
       "      <td>0.680590</td>\n",
       "      <td>0.575286</td>\n",
       "      <td>407.0000</td>\n",
       "    </tr>\n",
       "    <tr>\n",
       "      <th>accuracy</th>\n",
       "      <td>0.795500</td>\n",
       "      <td>0.795500</td>\n",
       "      <td>0.795500</td>\n",
       "      <td>0.7955</td>\n",
       "    </tr>\n",
       "    <tr>\n",
       "      <th>macro avg</th>\n",
       "      <td>0.704087</td>\n",
       "      <td>0.752724</td>\n",
       "      <td>0.720307</td>\n",
       "      <td>2000.0000</td>\n",
       "    </tr>\n",
       "    <tr>\n",
       "      <th>weighted avg</th>\n",
       "      <td>0.826177</td>\n",
       "      <td>0.795500</td>\n",
       "      <td>0.806304</td>\n",
       "      <td>2000.0000</td>\n",
       "    </tr>\n",
       "  </tbody>\n",
       "</table>\n",
       "</div>"
      ],
      "text/plain": [
       "              precision    recall  f1-score    support\n",
       "0              0.909972  0.824859  0.865328  1593.0000\n",
       "1              0.498201  0.680590  0.575286   407.0000\n",
       "accuracy       0.795500  0.795500  0.795500     0.7955\n",
       "macro avg      0.704087  0.752724  0.720307  2000.0000\n",
       "weighted avg   0.826177  0.795500  0.806304  2000.0000"
      ]
     },
     "execution_count": 14,
     "metadata": {},
     "output_type": "execute_result"
    }
   ],
   "source": [
    "# Hyperparameters\n",
    "param_grid_rf = {\n",
    "    'n_estimators': [50, 100, 200, 300],\n",
    "    'max_depth': [10, 20, 30, None],\n",
    "    'min_samples_split': [2, 5, 10],\n",
    "    'min_samples_leaf': [1, 2, 4],\n",
    "    'bootstrap': [True, False]\n",
    "}\n",
    "\n",
    "# Perform RandomSearchCV for Best Parameters\n",
    "rf_search = RandomizedSearchCV(\n",
    "    estimator=rf_model,\n",
    "    param_distributions=param_grid_rf,\n",
    "    n_iter=20,\n",
    "    cv=3,\n",
    "    scoring='f1',\n",
    "    random_state=50,\n",
    "    n_jobs=-1\n",
    ")\n",
    "\n",
    "# Fit Model\n",
    "rf_search.fit(x_resample_scaled, y_train_smote)\n",
    "\n",
    "# Best Params\n",
    "best_params = rf_search.best_params_\n",
    "\n",
    "# Train Best rf Model\n",
    "best_rf_model = RandomForestClassifier(**best_params, class_weight='balanced', random_state=50)\n",
    "best_rf_model.fit(x_resample_scaled, y_train_smote)\n",
    "\n",
    "# Predict, Evaluate, Report\n",
    "best_rf_pred = best_rf_model.predict(x_test_scaled)\n",
    "best_rf_report = classification_report(y_test, best_rf_pred, output_dict=True)\n",
    "best_rf_df = pd.DataFrame(best_rf_report).transpose()\n",
    "\n",
    "# Print\n",
    "print(\"Best RandomForest Results:\")\n",
    "best_rf_df"
   ]
  },
  {
   "cell_type": "markdown",
   "metadata": {},
   "source": [
    "I set up Parameters and used randomsearchcv to find the best parameters for the rf model and we see marginal success with this as accuracy and precision slightly increase but we see a slight decrease in recall."
   ]
  },
  {
   "cell_type": "code",
   "execution_count": 15,
   "metadata": {},
   "outputs": [
    {
     "data": {
      "application/vnd.plotly.v1+json": {
       "config": {
        "plotlyServerURL": "https://plot.ly"
       },
       "data": [
        {
         "hovertemplate": "False Positive Rate=%{x}<br>True Positive Rate=%{y}<extra></extra>",
         "legendgroup": "",
         "line": {
          "color": "#636efa",
          "dash": "solid"
         },
         "marker": {
          "symbol": "circle"
         },
         "mode": "lines",
         "name": "",
         "orientation": "v",
         "showlegend": false,
         "type": "scatter",
         "x": [
          0,
          0.0006277463904582549,
          0.0006277463904582549,
          0.0025109855618330196,
          0.0025109855618330196,
          0.003138731952291274,
          0.005649717514124294,
          0.008160703075957313,
          0.008160703075957313,
          0.008788449466415568,
          0.008788449466415568,
          0.010671688637790333,
          0.010671688637790333,
          0.011927181418706842,
          0.015065913370998116,
          0.015693659761456372,
          0.017576898932831136,
          0.020087884494664157,
          0.02322661644695543,
          0.02448210922787194,
          0.026365348399246705,
          0.02699309478970496,
          0.030131826741996232,
          0.032642812303829254,
          0.032642812303829254,
          0.03452605147520402,
          0.03452605147520402,
          0.03766478342749529,
          0.04080351537978657,
          0.04205900816070308,
          0.04268675455116133,
          0.04896421845574388,
          0.05273069679849341,
          0.05398618957940992,
          0.05649717514124294,
          0.05649717514124294,
          0.05963590709353421,
          0.06654111738857502,
          0.0709353421217828,
          0.07281858129315756,
          0.07407407407407407,
          0.07909604519774012,
          0.08035153797865663,
          0.08223477715003139,
          0.08411801632140616,
          0.09165097300690521,
          0.09353421217827998,
          0.09918392969240426,
          0.09918392969240426,
          0.10106716886377903,
          0.10734463276836158,
          0.11362209667294414,
          0.11613308223477715,
          0.11989956057752668,
          0.12052730696798493,
          0.12554927809165098,
          0.12994350282485875,
          0.13057124921531701,
          0.1374764595103578,
          0.14124293785310735,
          0.14814814814814814,
          0.15505335844318896,
          0.16446955430006277,
          0.17011927181418707,
          0.1751412429378531,
          0.1807909604519774,
          0.18581293157564344,
          0.18832391713747645,
          0.1989956057752668,
          0.21155053358443188,
          0.2184557438794727,
          0.22661644695543,
          0.23540489642184556,
          0.23603264281230382,
          0.2460765850596359,
          0.258631512868801,
          0.263653483992467,
          0.27055869428750784,
          0.2806026365348399,
          0.2893910860012555,
          0.29692404268675454,
          0.30571249215317015,
          0.32077840552416825,
          0.32893910860012554,
          0.33835530445699935,
          0.3502824858757062,
          0.3659761456371626,
          0.37602008788449465,
          0.3979912115505336,
          0.4118016321406152,
          0.4293785310734463,
          0.4450721908349027,
          0.45825486503452606,
          0.47394852479598243,
          0.487758945386064,
          0.5291902071563088,
          0.549278091650973,
          0.5756434400502197,
          0.5957313245448839,
          0.6126804770872567,
          0.6302573760200879,
          0.6541117388575016,
          0.6754551161330823,
          0.7005649717514124,
          0.7237915881983679,
          0.7457627118644068,
          0.7790332705586943,
          0.8160703075957313,
          0.8462021343377275,
          0.8788449466415568,
          0.9096045197740112,
          0.9460138104205901,
          0.970495919648462,
          0.9874450721908349,
          0.9962335216572504,
          1
         ],
         "xaxis": "x",
         "y": [
          0,
          0.022113022113022112,
          0.02457002457002457,
          0.04914004914004914,
          0.051597051597051594,
          0.06633906633906633,
          0.09090909090909091,
          0.10565110565110565,
          0.10810810810810811,
          0.12776412776412777,
          0.13022113022113022,
          0.15233415233415235,
          0.1547911547911548,
          0.16953316953316952,
          0.19164619164619165,
          0.19164619164619165,
          0.20884520884520885,
          0.23095823095823095,
          0.25552825552825553,
          0.25552825552825553,
          0.2702702702702703,
          0.2702702702702703,
          0.28501228501228504,
          0.29975429975429974,
          0.3046683046683047,
          0.31203931203931207,
          0.32678132678132676,
          0.3488943488943489,
          0.3538083538083538,
          0.371007371007371,
          0.3882063882063882,
          0.40294840294840295,
          0.41277641277641275,
          0.42997542997543,
          0.44471744471744473,
          0.44717444717444715,
          0.457002457002457,
          0.4692874692874693,
          0.4692874692874693,
          0.47174447174447176,
          0.48157248157248156,
          0.49385749385749383,
          0.49385749385749383,
          0.4987714987714988,
          0.5061425061425061,
          0.5208845208845209,
          0.5307125307125307,
          0.542997542997543,
          0.5454545454545454,
          0.5552825552825553,
          0.5724815724815725,
          0.5945945945945946,
          0.601965601965602,
          0.6142506142506142,
          0.6142506142506142,
          0.6167076167076168,
          0.6216216216216216,
          0.6216216216216216,
          0.6216216216216216,
          0.6363636363636364,
          0.6412776412776413,
          0.6584766584766585,
          0.6707616707616708,
          0.6732186732186732,
          0.6805896805896806,
          0.6855036855036855,
          0.6928746928746928,
          0.6928746928746928,
          0.6977886977886978,
          0.7076167076167076,
          0.7125307125307125,
          0.7199017199017199,
          0.7371007371007371,
          0.7371007371007371,
          0.7493857493857494,
          0.7665847665847666,
          0.7788697788697788,
          0.7837837837837838,
          0.7936117936117936,
          0.7985257985257985,
          0.8058968058968059,
          0.8108108108108109,
          0.8132678132678133,
          0.8230958230958231,
          0.8329238329238329,
          0.8476658476658476,
          0.8525798525798526,
          0.8624078624078624,
          0.8722358722358723,
          0.8771498771498771,
          0.8796068796068796,
          0.8869778869778869,
          0.8918918918918919,
          0.8943488943488943,
          0.8943488943488943,
          0.8992628992628993,
          0.9017199017199017,
          0.914004914004914,
          0.9238329238329238,
          0.9336609336609336,
          0.9459459459459459,
          0.9533169533169533,
          0.9557739557739557,
          0.9606879606879607,
          0.9705159705159705,
          0.9754299754299754,
          0.9754299754299754,
          0.9754299754299754,
          0.9828009828009828,
          0.9852579852579852,
          0.9901719901719902,
          0.995085995085995,
          0.9975429975429976,
          0.9975429975429976,
          0.9975429975429976,
          1
         ],
         "yaxis": "y"
        }
       ],
       "layout": {
        "legend": {
         "tracegroupgap": 0
        },
        "shapes": [
         {
          "line": {
           "color": "gray",
           "dash": "dash"
          },
          "type": "line",
          "x0": 0,
          "x1": 1,
          "y0": 0,
          "y1": 1
         }
        ],
        "template": {
         "data": {
          "bar": [
           {
            "error_x": {
             "color": "#2a3f5f"
            },
            "error_y": {
             "color": "#2a3f5f"
            },
            "marker": {
             "line": {
              "color": "#E5ECF6",
              "width": 0.5
             },
             "pattern": {
              "fillmode": "overlay",
              "size": 10,
              "solidity": 0.2
             }
            },
            "type": "bar"
           }
          ],
          "barpolar": [
           {
            "marker": {
             "line": {
              "color": "#E5ECF6",
              "width": 0.5
             },
             "pattern": {
              "fillmode": "overlay",
              "size": 10,
              "solidity": 0.2
             }
            },
            "type": "barpolar"
           }
          ],
          "carpet": [
           {
            "aaxis": {
             "endlinecolor": "#2a3f5f",
             "gridcolor": "white",
             "linecolor": "white",
             "minorgridcolor": "white",
             "startlinecolor": "#2a3f5f"
            },
            "baxis": {
             "endlinecolor": "#2a3f5f",
             "gridcolor": "white",
             "linecolor": "white",
             "minorgridcolor": "white",
             "startlinecolor": "#2a3f5f"
            },
            "type": "carpet"
           }
          ],
          "choropleth": [
           {
            "colorbar": {
             "outlinewidth": 0,
             "ticks": ""
            },
            "type": "choropleth"
           }
          ],
          "contour": [
           {
            "colorbar": {
             "outlinewidth": 0,
             "ticks": ""
            },
            "colorscale": [
             [
              0,
              "#0d0887"
             ],
             [
              0.1111111111111111,
              "#46039f"
             ],
             [
              0.2222222222222222,
              "#7201a8"
             ],
             [
              0.3333333333333333,
              "#9c179e"
             ],
             [
              0.4444444444444444,
              "#bd3786"
             ],
             [
              0.5555555555555556,
              "#d8576b"
             ],
             [
              0.6666666666666666,
              "#ed7953"
             ],
             [
              0.7777777777777778,
              "#fb9f3a"
             ],
             [
              0.8888888888888888,
              "#fdca26"
             ],
             [
              1,
              "#f0f921"
             ]
            ],
            "type": "contour"
           }
          ],
          "contourcarpet": [
           {
            "colorbar": {
             "outlinewidth": 0,
             "ticks": ""
            },
            "type": "contourcarpet"
           }
          ],
          "heatmap": [
           {
            "colorbar": {
             "outlinewidth": 0,
             "ticks": ""
            },
            "colorscale": [
             [
              0,
              "#0d0887"
             ],
             [
              0.1111111111111111,
              "#46039f"
             ],
             [
              0.2222222222222222,
              "#7201a8"
             ],
             [
              0.3333333333333333,
              "#9c179e"
             ],
             [
              0.4444444444444444,
              "#bd3786"
             ],
             [
              0.5555555555555556,
              "#d8576b"
             ],
             [
              0.6666666666666666,
              "#ed7953"
             ],
             [
              0.7777777777777778,
              "#fb9f3a"
             ],
             [
              0.8888888888888888,
              "#fdca26"
             ],
             [
              1,
              "#f0f921"
             ]
            ],
            "type": "heatmap"
           }
          ],
          "heatmapgl": [
           {
            "colorbar": {
             "outlinewidth": 0,
             "ticks": ""
            },
            "colorscale": [
             [
              0,
              "#0d0887"
             ],
             [
              0.1111111111111111,
              "#46039f"
             ],
             [
              0.2222222222222222,
              "#7201a8"
             ],
             [
              0.3333333333333333,
              "#9c179e"
             ],
             [
              0.4444444444444444,
              "#bd3786"
             ],
             [
              0.5555555555555556,
              "#d8576b"
             ],
             [
              0.6666666666666666,
              "#ed7953"
             ],
             [
              0.7777777777777778,
              "#fb9f3a"
             ],
             [
              0.8888888888888888,
              "#fdca26"
             ],
             [
              1,
              "#f0f921"
             ]
            ],
            "type": "heatmapgl"
           }
          ],
          "histogram": [
           {
            "marker": {
             "pattern": {
              "fillmode": "overlay",
              "size": 10,
              "solidity": 0.2
             }
            },
            "type": "histogram"
           }
          ],
          "histogram2d": [
           {
            "colorbar": {
             "outlinewidth": 0,
             "ticks": ""
            },
            "colorscale": [
             [
              0,
              "#0d0887"
             ],
             [
              0.1111111111111111,
              "#46039f"
             ],
             [
              0.2222222222222222,
              "#7201a8"
             ],
             [
              0.3333333333333333,
              "#9c179e"
             ],
             [
              0.4444444444444444,
              "#bd3786"
             ],
             [
              0.5555555555555556,
              "#d8576b"
             ],
             [
              0.6666666666666666,
              "#ed7953"
             ],
             [
              0.7777777777777778,
              "#fb9f3a"
             ],
             [
              0.8888888888888888,
              "#fdca26"
             ],
             [
              1,
              "#f0f921"
             ]
            ],
            "type": "histogram2d"
           }
          ],
          "histogram2dcontour": [
           {
            "colorbar": {
             "outlinewidth": 0,
             "ticks": ""
            },
            "colorscale": [
             [
              0,
              "#0d0887"
             ],
             [
              0.1111111111111111,
              "#46039f"
             ],
             [
              0.2222222222222222,
              "#7201a8"
             ],
             [
              0.3333333333333333,
              "#9c179e"
             ],
             [
              0.4444444444444444,
              "#bd3786"
             ],
             [
              0.5555555555555556,
              "#d8576b"
             ],
             [
              0.6666666666666666,
              "#ed7953"
             ],
             [
              0.7777777777777778,
              "#fb9f3a"
             ],
             [
              0.8888888888888888,
              "#fdca26"
             ],
             [
              1,
              "#f0f921"
             ]
            ],
            "type": "histogram2dcontour"
           }
          ],
          "mesh3d": [
           {
            "colorbar": {
             "outlinewidth": 0,
             "ticks": ""
            },
            "type": "mesh3d"
           }
          ],
          "parcoords": [
           {
            "line": {
             "colorbar": {
              "outlinewidth": 0,
              "ticks": ""
             }
            },
            "type": "parcoords"
           }
          ],
          "pie": [
           {
            "automargin": true,
            "type": "pie"
           }
          ],
          "scatter": [
           {
            "fillpattern": {
             "fillmode": "overlay",
             "size": 10,
             "solidity": 0.2
            },
            "type": "scatter"
           }
          ],
          "scatter3d": [
           {
            "line": {
             "colorbar": {
              "outlinewidth": 0,
              "ticks": ""
             }
            },
            "marker": {
             "colorbar": {
              "outlinewidth": 0,
              "ticks": ""
             }
            },
            "type": "scatter3d"
           }
          ],
          "scattercarpet": [
           {
            "marker": {
             "colorbar": {
              "outlinewidth": 0,
              "ticks": ""
             }
            },
            "type": "scattercarpet"
           }
          ],
          "scattergeo": [
           {
            "marker": {
             "colorbar": {
              "outlinewidth": 0,
              "ticks": ""
             }
            },
            "type": "scattergeo"
           }
          ],
          "scattergl": [
           {
            "marker": {
             "colorbar": {
              "outlinewidth": 0,
              "ticks": ""
             }
            },
            "type": "scattergl"
           }
          ],
          "scattermapbox": [
           {
            "marker": {
             "colorbar": {
              "outlinewidth": 0,
              "ticks": ""
             }
            },
            "type": "scattermapbox"
           }
          ],
          "scatterpolar": [
           {
            "marker": {
             "colorbar": {
              "outlinewidth": 0,
              "ticks": ""
             }
            },
            "type": "scatterpolar"
           }
          ],
          "scatterpolargl": [
           {
            "marker": {
             "colorbar": {
              "outlinewidth": 0,
              "ticks": ""
             }
            },
            "type": "scatterpolargl"
           }
          ],
          "scatterternary": [
           {
            "marker": {
             "colorbar": {
              "outlinewidth": 0,
              "ticks": ""
             }
            },
            "type": "scatterternary"
           }
          ],
          "surface": [
           {
            "colorbar": {
             "outlinewidth": 0,
             "ticks": ""
            },
            "colorscale": [
             [
              0,
              "#0d0887"
             ],
             [
              0.1111111111111111,
              "#46039f"
             ],
             [
              0.2222222222222222,
              "#7201a8"
             ],
             [
              0.3333333333333333,
              "#9c179e"
             ],
             [
              0.4444444444444444,
              "#bd3786"
             ],
             [
              0.5555555555555556,
              "#d8576b"
             ],
             [
              0.6666666666666666,
              "#ed7953"
             ],
             [
              0.7777777777777778,
              "#fb9f3a"
             ],
             [
              0.8888888888888888,
              "#fdca26"
             ],
             [
              1,
              "#f0f921"
             ]
            ],
            "type": "surface"
           }
          ],
          "table": [
           {
            "cells": {
             "fill": {
              "color": "#EBF0F8"
             },
             "line": {
              "color": "white"
             }
            },
            "header": {
             "fill": {
              "color": "#C8D4E3"
             },
             "line": {
              "color": "white"
             }
            },
            "type": "table"
           }
          ]
         },
         "layout": {
          "annotationdefaults": {
           "arrowcolor": "#2a3f5f",
           "arrowhead": 0,
           "arrowwidth": 1
          },
          "autotypenumbers": "strict",
          "coloraxis": {
           "colorbar": {
            "outlinewidth": 0,
            "ticks": ""
           }
          },
          "colorscale": {
           "diverging": [
            [
             0,
             "#8e0152"
            ],
            [
             0.1,
             "#c51b7d"
            ],
            [
             0.2,
             "#de77ae"
            ],
            [
             0.3,
             "#f1b6da"
            ],
            [
             0.4,
             "#fde0ef"
            ],
            [
             0.5,
             "#f7f7f7"
            ],
            [
             0.6,
             "#e6f5d0"
            ],
            [
             0.7,
             "#b8e186"
            ],
            [
             0.8,
             "#7fbc41"
            ],
            [
             0.9,
             "#4d9221"
            ],
            [
             1,
             "#276419"
            ]
           ],
           "sequential": [
            [
             0,
             "#0d0887"
            ],
            [
             0.1111111111111111,
             "#46039f"
            ],
            [
             0.2222222222222222,
             "#7201a8"
            ],
            [
             0.3333333333333333,
             "#9c179e"
            ],
            [
             0.4444444444444444,
             "#bd3786"
            ],
            [
             0.5555555555555556,
             "#d8576b"
            ],
            [
             0.6666666666666666,
             "#ed7953"
            ],
            [
             0.7777777777777778,
             "#fb9f3a"
            ],
            [
             0.8888888888888888,
             "#fdca26"
            ],
            [
             1,
             "#f0f921"
            ]
           ],
           "sequentialminus": [
            [
             0,
             "#0d0887"
            ],
            [
             0.1111111111111111,
             "#46039f"
            ],
            [
             0.2222222222222222,
             "#7201a8"
            ],
            [
             0.3333333333333333,
             "#9c179e"
            ],
            [
             0.4444444444444444,
             "#bd3786"
            ],
            [
             0.5555555555555556,
             "#d8576b"
            ],
            [
             0.6666666666666666,
             "#ed7953"
            ],
            [
             0.7777777777777778,
             "#fb9f3a"
            ],
            [
             0.8888888888888888,
             "#fdca26"
            ],
            [
             1,
             "#f0f921"
            ]
           ]
          },
          "colorway": [
           "#636efa",
           "#EF553B",
           "#00cc96",
           "#ab63fa",
           "#FFA15A",
           "#19d3f3",
           "#FF6692",
           "#B6E880",
           "#FF97FF",
           "#FECB52"
          ],
          "font": {
           "color": "#2a3f5f"
          },
          "geo": {
           "bgcolor": "white",
           "lakecolor": "white",
           "landcolor": "#E5ECF6",
           "showlakes": true,
           "showland": true,
           "subunitcolor": "white"
          },
          "hoverlabel": {
           "align": "left"
          },
          "hovermode": "closest",
          "mapbox": {
           "style": "light"
          },
          "paper_bgcolor": "white",
          "plot_bgcolor": "#E5ECF6",
          "polar": {
           "angularaxis": {
            "gridcolor": "white",
            "linecolor": "white",
            "ticks": ""
           },
           "bgcolor": "#E5ECF6",
           "radialaxis": {
            "gridcolor": "white",
            "linecolor": "white",
            "ticks": ""
           }
          },
          "scene": {
           "xaxis": {
            "backgroundcolor": "#E5ECF6",
            "gridcolor": "white",
            "gridwidth": 2,
            "linecolor": "white",
            "showbackground": true,
            "ticks": "",
            "zerolinecolor": "white"
           },
           "yaxis": {
            "backgroundcolor": "#E5ECF6",
            "gridcolor": "white",
            "gridwidth": 2,
            "linecolor": "white",
            "showbackground": true,
            "ticks": "",
            "zerolinecolor": "white"
           },
           "zaxis": {
            "backgroundcolor": "#E5ECF6",
            "gridcolor": "white",
            "gridwidth": 2,
            "linecolor": "white",
            "showbackground": true,
            "ticks": "",
            "zerolinecolor": "white"
           }
          },
          "shapedefaults": {
           "line": {
            "color": "#2a3f5f"
           }
          },
          "ternary": {
           "aaxis": {
            "gridcolor": "white",
            "linecolor": "white",
            "ticks": ""
           },
           "baxis": {
            "gridcolor": "white",
            "linecolor": "white",
            "ticks": ""
           },
           "bgcolor": "#E5ECF6",
           "caxis": {
            "gridcolor": "white",
            "linecolor": "white",
            "ticks": ""
           }
          },
          "title": {
           "x": 0.05
          },
          "xaxis": {
           "automargin": true,
           "gridcolor": "white",
           "linecolor": "white",
           "ticks": "",
           "title": {
            "standoff": 15
           },
           "zerolinecolor": "white",
           "zerolinewidth": 2
          },
          "yaxis": {
           "automargin": true,
           "gridcolor": "white",
           "linecolor": "white",
           "ticks": "",
           "title": {
            "standoff": 15
           },
           "zerolinecolor": "white",
           "zerolinewidth": 2
          }
         }
        },
        "title": {
         "text": "Receiver Operating Characteristic (ROC) Curve (AUC = 0.8296)"
        },
        "xaxis": {
         "anchor": "y",
         "domain": [
          0,
          1
         ],
         "title": {
          "text": "False Positive Rate"
         }
        },
        "yaxis": {
         "anchor": "x",
         "domain": [
          0,
          1
         ],
         "title": {
          "text": "True Positive Rate"
         }
        }
       }
      }
     },
     "metadata": {},
     "output_type": "display_data"
    },
    {
     "data": {
      "text/plain": [
       "np.float64(0.8295953889174229)"
      ]
     },
     "execution_count": 15,
     "metadata": {},
     "output_type": "execute_result"
    }
   ],
   "source": [
    "# Predict probabilities for ROC curve\n",
    "rf_probs = best_rf_model.predict_proba(x_test_scaled)[:, 1]\n",
    "\n",
    "# Compute AUC-ROC\n",
    "auc_roc = roc_auc_score(y_test, rf_probs)\n",
    "\n",
    "# Compute ROC curve\n",
    "fpr, tpr, _ = roc_curve(y_test, rf_probs)\n",
    "\n",
    "# Create a DataFrame for Plotly\n",
    "roc_df = pd.DataFrame({'False Positive Rate': fpr, 'True Positive Rate': tpr})\n",
    "\n",
    "# Plot using Plotly Express\n",
    "fig = px.line(\n",
    "    roc_df, x='False Positive Rate', y='True Positive Rate',\n",
    "    title=f'Receiver Operating Characteristic (ROC) Curve (AUC = {auc_roc:.4f})',\n",
    "    labels={'False Positive Rate': 'False Positive Rate', 'True Positive Rate': 'True Positive Rate'}\n",
    ")\n",
    "\n",
    "# Add diagonal reference line\n",
    "fig.add_shape(type='line', x0=0, y0=0, x1=1, y1=1, line=dict(dash='dash', color='gray'))\n",
    "\n",
    "# Show plot\n",
    "fig.show()\n",
    "\n",
    "# Return AUC-ROC Score\n",
    "auc_roc"
   ]
  },
  {
   "cell_type": "markdown",
   "metadata": {},
   "source": [
    "Our AUC_ROC is ~.83 which suggest the model performs well in distiguishing between churners and non churners."
   ]
  },
  {
   "cell_type": "markdown",
   "metadata": {},
   "source": [
    "## Conclusion"
   ]
  },
  {
   "cell_type": "markdown",
   "metadata": {},
   "source": [
    "The optimized Random Forest model strikes a solid balance between accuracy (79.55%), precision (49.82%), and recall (68.06%), making it a reliable tool for predicting customer churn. Initially, it struggled with false positives and missed churn cases, but SMOTE helped balance the dataset, and class weighting made churn cases more significant. After fine-tuning with hyperparameter optimization, the model became more precise while still identifying a good portion of churners. While it’s now a bit more selective, it does a better job at reducing misclassification errors. Overall, this version is the best so far, but there’s room for improvement—adjusting the decision threshold, testing XGBoost or LightGBM, or analyzing feature importance could take it even further."
   ]
  },
  {
   "cell_type": "markdown",
   "metadata": {},
   "source": []
  }
 ],
 "metadata": {
  "kernelspec": {
   "display_name": "Python 3",
   "language": "python",
   "name": "python3"
  },
  "language_info": {
   "codemirror_mode": {
    "name": "ipython",
    "version": 3
   },
   "file_extension": ".py",
   "mimetype": "text/x-python",
   "name": "python",
   "nbconvert_exporter": "python",
   "pygments_lexer": "ipython3",
   "version": "3.13.2"
  }
 },
 "nbformat": 4,
 "nbformat_minor": 2
}
